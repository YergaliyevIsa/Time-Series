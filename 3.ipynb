{
 "cells": [
  {
   "cell_type": "code",
   "execution_count": 43,
   "metadata": {},
   "outputs": [],
   "source": [
    "import pandas as pd\n",
    "import numpy as np\n",
    "import matplotlib.pyplot as plt"
   ]
  },
  {
   "cell_type": "code",
   "execution_count": 44,
   "metadata": {},
   "outputs": [
    {
     "data": {
      "text/html": [
       "<div>\n",
       "<style scoped>\n",
       "    .dataframe tbody tr th:only-of-type {\n",
       "        vertical-align: middle;\n",
       "    }\n",
       "\n",
       "    .dataframe tbody tr th {\n",
       "        vertical-align: top;\n",
       "    }\n",
       "\n",
       "    .dataframe thead th {\n",
       "        text-align: right;\n",
       "    }\n",
       "</style>\n",
       "<table border=\"1\" class=\"dataframe\">\n",
       "  <thead>\n",
       "    <tr style=\"text-align: right;\">\n",
       "      <th></th>\n",
       "      <th>Date</th>\n",
       "      <th>USD_quant</th>\n",
       "      <th>USD</th>\n",
       "    </tr>\n",
       "  </thead>\n",
       "  <tbody>\n",
       "    <tr>\n",
       "      <th>0</th>\n",
       "      <td>2015-03-30</td>\n",
       "      <td>1</td>\n",
       "      <td>185.50</td>\n",
       "    </tr>\n",
       "    <tr>\n",
       "      <th>1</th>\n",
       "      <td>2015-03-31</td>\n",
       "      <td>1</td>\n",
       "      <td>185.65</td>\n",
       "    </tr>\n",
       "    <tr>\n",
       "      <th>2</th>\n",
       "      <td>2015-04-01</td>\n",
       "      <td>1</td>\n",
       "      <td>185.65</td>\n",
       "    </tr>\n",
       "    <tr>\n",
       "      <th>3</th>\n",
       "      <td>2015-04-02</td>\n",
       "      <td>1</td>\n",
       "      <td>185.65</td>\n",
       "    </tr>\n",
       "    <tr>\n",
       "      <th>4</th>\n",
       "      <td>2015-04-03</td>\n",
       "      <td>1</td>\n",
       "      <td>185.65</td>\n",
       "    </tr>\n",
       "    <tr>\n",
       "      <th>...</th>\n",
       "      <td>...</td>\n",
       "      <td>...</td>\n",
       "      <td>...</td>\n",
       "    </tr>\n",
       "    <tr>\n",
       "      <th>1823</th>\n",
       "      <td>2020-03-26</td>\n",
       "      <td>1</td>\n",
       "      <td>444.80</td>\n",
       "    </tr>\n",
       "    <tr>\n",
       "      <th>1824</th>\n",
       "      <td>2020-03-27</td>\n",
       "      <td>1</td>\n",
       "      <td>446.06</td>\n",
       "    </tr>\n",
       "    <tr>\n",
       "      <th>1825</th>\n",
       "      <td>2020-03-28</td>\n",
       "      <td>1</td>\n",
       "      <td>445.84</td>\n",
       "    </tr>\n",
       "    <tr>\n",
       "      <th>1826</th>\n",
       "      <td>2020-03-29</td>\n",
       "      <td>1</td>\n",
       "      <td>445.84</td>\n",
       "    </tr>\n",
       "    <tr>\n",
       "      <th>1827</th>\n",
       "      <td>2020-03-30</td>\n",
       "      <td>1</td>\n",
       "      <td>445.84</td>\n",
       "    </tr>\n",
       "  </tbody>\n",
       "</table>\n",
       "<p>1828 rows × 3 columns</p>\n",
       "</div>"
      ],
      "text/plain": [
       "            Date  USD_quant     USD\n",
       "0     2015-03-30          1  185.50\n",
       "1     2015-03-31          1  185.65\n",
       "2     2015-04-01          1  185.65\n",
       "3     2015-04-02          1  185.65\n",
       "4     2015-04-03          1  185.65\n",
       "...          ...        ...     ...\n",
       "1823  2020-03-26          1  444.80\n",
       "1824  2020-03-27          1  446.06\n",
       "1825  2020-03-28          1  445.84\n",
       "1826  2020-03-29          1  445.84\n",
       "1827  2020-03-30          1  445.84\n",
       "\n",
       "[1828 rows x 3 columns]"
      ]
     },
     "execution_count": 44,
     "metadata": {},
     "output_type": "execute_result"
    }
   ],
   "source": [
    "df = pd.read_csv('usd_kzt.csv')\n",
    "df"
   ]
  },
  {
   "cell_type": "markdown",
   "metadata": {},
   "source": [
    "2 столбец нам не нужен, от него можно избавиться"
   ]
  },
  {
   "cell_type": "code",
   "execution_count": 45,
   "metadata": {},
   "outputs": [
    {
     "name": "stdout",
     "output_type": "stream",
     "text": [
      "matrix size = (457, 1372) 457 1372\n"
     ]
    }
   ],
   "source": [
    "df = df[['Date', 'USD']]\n",
    "N = df.shape[0]\n",
    "tau = (N + 1) // 4\n",
    "n = N - tau + 1\n",
    "Tenge = df['USD'].values\n",
    "X = np.array([Tenge[ind : ind + tau] for ind in range(0, n)]).T\n",
    "print(\"matrix size =\", X.shape, tau, n)\n",
    "C = X.dot(X.T) / n\n",
    "eigen_val, V = np.linalg.eig(C)\n",
    "Y = V.T.dot(X)\n",
    "r = tau // 10\n",
    "_X = V[:, :r].dot(Y[:r])"
   ]
  },
  {
   "cell_type": "code",
   "execution_count": 46,
   "metadata": {},
   "outputs": [],
   "source": [
    "def calc_sum(arr, first, second, m):\n",
    "    acc = 0.0\n",
    "    for i in range(m):\n",
    "        acc += arr[first + i, second - i]\n",
    "    return acc\n",
    "\n",
    "tenge = np.zeros(N)\n",
    "for s in range(1 , N + 1):\n",
    "    if 1 <= s <= tau:\n",
    "        tenge[s - 1] = calc_sum(_X, 0, s - 1, s) / s \n",
    "    elif tau <= s <= n:\n",
    "        tenge[s - 1] = calc_sum(_X, 0, s - 1,tau) / tau\n",
    "    else:\n",
    "        tenge[s - 1] = calc_sum(_X, s - n, n - 1, N - s + 1) / (N - s + 1)"
   ]
  },
  {
   "cell_type": "code",
   "execution_count": 47,
   "metadata": {},
   "outputs": [
    {
     "data": {
      "text/plain": [
       "<matplotlib.legend.Legend at 0x7f1d35790668>"
      ]
     },
     "execution_count": 47,
     "metadata": {},
     "output_type": "execute_result"
    },
    {
     "data": {
      "image/png": "[encoded data removed]",
      "text/plain": [
       "<Figure size 432x288 with 1 Axes>"
      ]
     },
     "metadata": {
      "needs_background": "light"
     },
     "output_type": "display_data"
    }
   ],
   "source": [
    "plt.plot(df['Date'][:300], Tenge[:300], label = 'primary')\n",
    "plt.plot(df['Date'][:300], tenge[:300], label = 'SSAsmooth')\n",
    "plt.xlabel('date')\n",
    "plt.ylabel('KZT')\n",
    "plt.title('Exchange rate')\n",
    "plt.legend()"
   ]
  },
  {
   "cell_type": "code",
   "execution_count": 48,
   "metadata": {},
   "outputs": [],
   "source": [
    "def SSApredict(N, tau, r, X, V):\n",
    "    _V = V[:tau - 1, :r]\n",
    "    Q = np.array([X[i] for i in range(N - tau + 1, N)])\n",
    "    V_tau = V[tau - 1, :r]\n",
    "    return V_tau.dot(_V.T).dot(Q) / (1.0 - V_tau.dot(V_tau.T))\n",
    "\n",
    "for i in range(50):\n",
    "    val = SSApredict(N + i, tau, r, Tenge, V)\n",
    "    Tenge = np.append(Tenge, [val])\n"
   ]
  },
  {
   "cell_type": "code",
   "execution_count": 49,
   "metadata": {},
   "outputs": [
    {
     "data": {
      "text/plain": [
       "Text(0.5, 1.0, 'Exchange rate')"
      ]
     },
     "execution_count": 49,
     "metadata": {},
     "output_type": "execute_result"
    },
    {
     "data": {
      "image/png": "[encoded data removed]",
      "text/plain": [
       "<Figure size 432x288 with 1 Axes>"
      ]
     },
     "metadata": {
      "needs_background": "light"
     },
     "output_type": "display_data"
    }
   ],
   "source": [
    "plt.plot(df['Date'][:50], Tenge[-50:])\n",
    "plt.xlabel('date')\n",
    "plt.ylabel('KZT')\n",
    "plt.title('Exchange rate')"
   ]
  },
  {
   "cell_type": "markdown",
   "metadata": {},
   "source": [
    "Было проведен прогноз курс доллара к тенге методом SSA на 50 дней(31 марта 2020 до 19 мая). К несчатью нас ждет доллар за 480 тенге. "
   ]
  }
 ],
 "metadata": {
  "kernelspec": {
   "display_name": "venv",
   "language": "python",
   "name": "venv"
  },
  "language_info": {
   "codemirror_mode": {
    "name": "ipython",
    "version": 3
   },
   "file_extension": ".py",
   "mimetype": "text/x-python",
   "name": "python",
   "nbconvert_exporter": "python",
   "pygments_lexer": "ipython3",
   "version": "3.6.9"
  }
 },
 "nbformat": 4,
 "nbformat_minor": 4
}
